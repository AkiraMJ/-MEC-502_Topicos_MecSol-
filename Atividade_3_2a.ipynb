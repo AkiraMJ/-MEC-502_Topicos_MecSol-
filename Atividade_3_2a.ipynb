{
  "nbformat": 4,
  "nbformat_minor": 0,
  "metadata": {
    "colab": {
      "provenance": [],
      "authorship_tag": "ABX9TyNEsV916y5c+wXlP0A7PPRl",
      "include_colab_link": true
    },
    "kernelspec": {
      "name": "python3",
      "display_name": "Python 3"
    },
    "language_info": {
      "name": "python"
    }
  },
  "cells": [
    {
      "cell_type": "markdown",
      "metadata": {
        "id": "view-in-github",
        "colab_type": "text"
      },
      "source": [
        "<a href=\"https://colab.research.google.com/github/AkiraMJ/-MEC-502_Topicos_MecSol-/blob/main/Atividade_3_2a.ipynb\" target=\"_parent\"><img src=\"https://colab.research.google.com/assets/colab-badge.svg\" alt=\"Open In Colab\"/></a>"
      ]
    },
    {
      "cell_type": "markdown",
      "source": [
        "## *RODAR CODIGO COMPLETO NO FIM DA PAGINA*"
      ],
      "metadata": {
        "id": "0N1ZaqPnqETy"
      }
    },
    {
      "cell_type": "code",
      "source": [
        "import requests\n",
        "from PIL import Image\n",
        "from io import BytesIO\n",
        "\n",
        "file_id = '1WCQJlmvq81AfYQxao-IIp2j0Sd1sxe8o'\n",
        "url = f'https://drive.google.com/uc?export=view&id={file_id}'\n",
        "\n",
        "response = requests.get(url)\n",
        "img = Image.open(BytesIO(response.content))\n",
        "\n",
        "new_size = (500, 300)  # (largura, altura) em pixels\n",
        "img_resized = img.resize(new_size)\n",
        "\n",
        "display(img_resized)\n",
        "#https://drive.google.com/file/d/1WCQJlmvq81AfYQxao-IIp2j0Sd1sxe8o/view?usp=sharing"
      ],
      "metadata": {
        "colab": {
          "base_uri": "https://localhost:8080/",
          "height": 317
        },
        "id": "ounSLi8lINiW",
        "outputId": "88c6a1e9-4001-488c-e1ea-1b17f6ee41fc"
      },
      "execution_count": null,
      "outputs": [
        {
          "output_type": "display_data",
          "data": {
            "text/plain": [
              "<PIL.Image.Image image mode=RGBA size=500x300>"
            ],
            "image/png": "[encoded data removed]"
          },
          "metadata": {}
        }
      ]
    },
    {
      "cell_type": "markdown",
      "source": [
        "##Exercício 3.2a\n",
        "\n",
        "* Problema L = 3m, I = 6510 cm4, E = 21000 kN/cm2, p = 16 kN.\n"
      ],
      "metadata": {
        "id": "uQqEOT32z3ma"
      }
    },
    {
      "cell_type": "markdown",
      "source": [
        "<!-- ### **a) Viga em balanço com carga pontual na extremidade**\n",
        "\n",
        "#### **Equações Governamentais**\n",
        "\n",
        "Equação de Euler-Bernoulli:\n",
        "$$EI \\frac{d^4y}{dx^4} = -w(x)$$\n",
        "\n",
        "Momento Fletor ($M(x)$):\n",
        "$$M(x) = EI \\frac{d^2y}{dx^2}$$\n",
        "\n",
        "Força Cortante ($V(x)$):\n",
        "$$V(x) = \\frac{dM(x)}{dx} = EI \\frac{d^3y}{dx^3}$$\n",
        "\n",
        "#### **Condições de Contorno**\n",
        "\n",
        "No Engaste ($x=0$):\n",
        "Deslocamento nulo:\n",
        "$$y(0) = 0$$\n",
        "Rotação nula:\n",
        "$$\\frac{dy}{dx}\\Big|_{x=0} = 0$$\n",
        "\n",
        "Na Extremidade Livre ($x=L$):\n",
        "Momento fletor nulo:\n",
        "$$M(L) = EI \\frac{d^2y}{dx^2}\\Big|_{x=L} = 0$$\n",
        "Força cortante igual à carga:\n",
        "$$V(L) = EI \\frac{d^3y}{dx^3}\\Big|_{x=L} = -P$$\n",
        "\n",
        " -->\n",
        "Certamente. Aqui está o conteúdo do seu notebook corrigido e formatado em Markdown, exatamente como você solicitou, com as correções nas equações e nos termos.\n",
        "\n",
        "---\n",
        "\n",
        "### Análise de Viga em Balanço com Carga Pontual na Extremidade\n",
        "\n",
        "Este notebook apresenta a solução passo a passo para a equação de deflexão de uma viga em balanço submetida a uma carga pontual ($P$) na extremidade. As constantes de integração são encontradas utilizando as condições de contorno fornecidas.\n",
        "\n",
        "---\n",
        "\n",
        "### **Equações Governamentais**\n",
        "\n",
        "A análise é baseada na teoria de Euler-Bernoulli. As equações diferenciais que descrevem o comportamento da viga são:\n",
        "\n",
        "* **Deflexão ($y$):** $EI \\frac{d^4y}{dx^4} = w(x)$\n",
        "* **Momento Fletor ($M(x)$):** $M(x) = -EI \\frac{d^2y}{dx^2}$\n",
        "* **Força Cortante ($V(x)$):** $V(x) = EI \\frac{d^3y}{dx^3}$\n",
        "\n",
        "Neste caso, a viga em balanço não possui carga distribuída, então $w(x) = 0$.\n",
        "\n",
        "---\n",
        "\n",
        "### **Condições de Contorno**\n",
        "\n",
        "As condições de contorno são essenciais para encontrar as constantes de integração.\n",
        "\n",
        "* **No Engaste ($x=0$):**\n",
        "    * Deslocamento nulo: $y(0) = 0$\n",
        "    * Rotação nula: $\\frac{dy}{dx} \\Big|_{x=0} = 0$\n",
        "* **Na Extremidade Livre ($x=L$):**\n",
        "    * Momento fletor nulo: $M(L) = EI \\frac{d^2y}{dx^2} \\Big|_{x=L} = 0$\n",
        "    * Força cortante igual à carga: $V(L) = EI \\frac{d^3y}{dx^3} \\Big|_{x=L} = -P$\n",
        "\n",
        "---\n",
        "\n",
        "### **Cálculo das Constantes de Integração**\n",
        "\n",
        "Integrar as equações diferenciais a partir da ordem mais alta, utilizando as condições de contorno para determinar as constantes.\n",
        "\n",
        "#### **1. Força Cortante ($V(x)$)**\n",
        "\n",
        "A equação da força cortante e sua condição de contorno na extremidade livre.\n",
        "\n",
        "$$EI \\frac{d^3y}{dx^3} = C_1$$\n",
        "\n",
        "Aplicando a condição em $x=L$:\n",
        "$$EI \\frac{d^3y}{dx^3} \\Big|_{x=L} = -P$$\n",
        "$$\\fbox{$C_1 = -P$$$}$$\n",
        "\n",
        "Portanto, a equação da **Força Cortante** é:\n",
        "$$EI \\frac{d^3y}{dx^3} = -P$$\n",
        "$$\\fbox{$V(x) = -P$$$}$$\n",
        "\n",
        "#### **2. Momento Fletor ($M(x)$)**\n",
        "\n",
        "Integrando a equação da força cortante:\n",
        "\n",
        "$$EI \\frac{d^2y}{dx^2} = \\int -P \\,dx = -Px + C_2$$\n",
        "\n",
        "Aplicando a condição de contorno para o momento em $x=L$:\n",
        "\n",
        "$$EI \\frac{d^2y}{dx^2} \\Big|_{x=L} = 0$$\n",
        "\n",
        "$$-PL + C_2 = 0$$\n",
        "\n",
        "$$\\fbox{$C_2 = PL$}$$\n",
        "\n",
        "Portanto, a equação do **Momento Fletor** é:\n",
        "$$EI \\frac{d^2y}{dx^2} = -Px + PL$$\n",
        "\n",
        "$$\\fbox{$M(x) = P(L-x)$}$$\n",
        "\n",
        "#### **3. Rotação ($\\frac{dy}{dx}$)**\n",
        "\n",
        "Integrando a equação do momento fletor:\n",
        "\n",
        "$$EI \\frac{dy}{dx} = \\int (-Px + PL) \\,dx = -\\frac{Px^2}{2} + PLx + C_3$$\n",
        "\n",
        "Aplicando a condição de contorno para a rotação em $x=0$:\n",
        "$$EI \\frac{dy}{dx} \\Big|_{x=0} = 0$$\n",
        "\n",
        "$$-\\frac{P(0)^2}{2} + PL(0) + C_3 = 0$$\n",
        "\n",
        "$$\\fbox{$C_3 = 0$}$$\n",
        "\n",
        "Portanto, a equação da **Rotação** é:\n",
        "\n",
        "$$\\fbox{$ EI \\frac{dy}{dx} = -\\frac{Px^2}{2} + PLx$}$$\n",
        "\n",
        "#### **4. Deflexão ($y(x)$)**\n",
        "\n",
        "Integrando a equação da rotação:\n",
        "\n",
        "$$EI y(x) = \\int \\left(-\\frac{Px^2}{2} + PLx \\right) \\,dx = -\\frac{Px^3}{6} + \\frac{PLx^2}{2} + C_4$$\n",
        "\n",
        "Aplicando a condição de contorno para a deflexão em $x=0$:\n",
        "\n",
        "$$EI y(0) = 0$$\n",
        "\n",
        "$$-\\frac{P(0)^3}{6} + \\frac{PL(0)^2}{2} + C_4 = 0$$\n",
        "\n",
        "$$\\fbox{$C_4 = 0$}$$\n",
        "\n",
        "Portanto, a equação da **Deflexão** é:\n",
        "$$EI y(x) = -\\frac{Px^3}{6} + \\frac{PLx^2}{2}$$\n",
        "\n",
        "$$\\fbox{$y(x) = \\frac{P}{EI} \\left( -\\frac{x^3}{6} + \\frac{Lx^2}{2} \\right)$}$$"
      ],
      "metadata": {
        "id": "zOKXJD-gwfc2"
      }
    },
    {
      "cell_type": "markdown",
      "source": [
        "---"
      ],
      "metadata": {
        "id": "de7oM_z02XPK"
      }
    },
    {
      "cell_type": "markdown",
      "source": [
        "<!-- # Análise de Viga em Balanço com Carga Pontual na Extremidade\n",
        "\n",
        "Este notebook apresenta a solução passo a passo para a equação de deflexão de uma viga em balanço submetida a uma carga pontual ($P$) na extremidade. As constantes de integração são encontradas utilizando as condições de contorno fornecidas.\n",
        "\n",
        "---\n",
        "\n",
        "### **Equações Governamentais**\n",
        "\n",
        "A análise é baseada na teoria de Euler-Bernoulli. As equações diferenciais que descrevem o comportamento da viga são:\n",
        "\n",
        "* **Deflexão ($y$):** $EI \\frac{d^4y}{dx^4} = -w(x)$\n",
        "* **Momento Fletor ($M(x)$):** $M(x) = EI \\frac{d^2y}{dx^2}$\n",
        "* **Força Cortante ($V(x)$):** $V(x) = EI \\frac{d^3y}{dx^3}$\n",
        "\n",
        "Neste caso, a viga em balanço não possui carga distribuída, então $w(x) = 0$.\n",
        "\n",
        "---\n",
        "\n",
        "### **Condições de Contorno**\n",
        "\n",
        "As condições de contorno são essenciais para encontrar as constantes de integração.\n",
        "\n",
        "* **No Engaste ($x=0$):**\n",
        "    * Deslocamento nulo: $y(0) = 0$\n",
        "    * Rotação nula: $\\frac{dy}{dx} \\Big|_{x=0} = 0$\n",
        "* **Na Extremidade Livre ($x=L$):**\n",
        "    * Momento fletor nulo: $M(L) = EI \\frac{d^2y}{dx^2} \\Big|_{x=L} = 0$\n",
        "    * Força cortante igual à carga: $V(L) = EI \\frac{d^3y}{dx^3} \\Big|_{x=L} = -P$\n",
        "\n",
        "---\n",
        "\n",
        "### **Cálculo das Constantes de Integração**\n",
        "\n",
        "Integrar as equações diferenciais a partir da ordem mais alta, utilizando as condições de contorno para determinar as constantes.\n",
        "\n",
        "#### **1. Força Cortante ($V(x)$)**\n",
        "\n",
        "A equação da força cortante e sua condição de contorno na extremidade livre.\n",
        "\n",
        "$$\\fbox{$EI \\frac{d^3y}{dx^3} = C_1$}$$\n",
        "\n",
        "Aplicando a condição em $x=L$:\n",
        "$$EI \\frac{d^3y}{dx^3} \\Big|_{x=L} = -P$$\n",
        "$$\\fbox{$C_1 = -P$$$}$$\n",
        "\n",
        "Portanto, a equação da **Força Cortante** é:\n",
        "$$EI \\frac{d^3y}{dx^3} = -P$$\n",
        "$$\\fbox{$V(x) = -P$$$}$$\n",
        "\n",
        "#### **2. Momento Fletor ($M(x)$)**\n",
        "\n",
        "Integrando a equação da força cortante:\n",
        "\n",
        "$$EI \\frac{d^2y}{dx^2} = \\int -P \\,dx = -Px + C_2$$\n",
        "\n",
        "Aplicando a condição de contorno para o momento em $x=L$:\n",
        "\n",
        "$$EI \\frac{d^2y}{dx^2} \\Big|_{x=L} = 0$$\n",
        "\n",
        "$$-PL + C_2 = 0$$\n",
        "\n",
        "$$\\fbox{$C_2 = PL$}$$\n",
        "\n",
        "Portanto, a equação do **Momento Fletor** é:\n",
        "$$EI \\frac{d^2y}{dx^2} = -Px + PL$$\n",
        "\n",
        "$$\\fbox{$M(x) = P(L-x)$}$$\n",
        "\n",
        "#### **3. Rotação ($\\frac{dy}{dx}$)**\n",
        "\n",
        "Integrando a equação do momento fletor:\n",
        "\n",
        "$$EI \\frac{dy}{dx} = \\int (-Px + PL) \\,dx = -\\frac{Px^2}{2} + PLx + C_3$$\n",
        "\n",
        "Aplicando a condição de contorno para a rotação em $x=0$:\n",
        "$$EI \\frac{dy}{dx} \\Big|_{x=0} = 0$$\n",
        "\n",
        "$$-\\frac{P(0)^2}{2} + PL(0) + C_3 = 0$$\n",
        "\n",
        "$$\\fbox{$C_3 = 0$}$$\n",
        "\n",
        "Portanto, a equação da **Rotação** é:\n",
        "\n",
        "$$\\fbox{$ EI \\frac{dy}{dx} = -\\frac{Px^2}{2} + PLx$}$$\n",
        "\n",
        "#### **4. Deflexão ($y(x)$)**\n",
        "\n",
        "Integrando a equação da rotação:\n",
        "\n",
        "$$EI y(x) = \\int \\left(-\\frac{Px^2}{2} + PLx \\right) \\,dx = -\\frac{Px^3}{6} + \\frac{PLx^2}{2} + C_4$$\n",
        "\n",
        "Aplicando a condição de contorno para a deflexão em $x=0$:\n",
        "\n",
        "$$EI y(0) = 0$$\n",
        "\n",
        "$$-\\frac{P(0)^3}{6} + \\frac{PL(0)^2}{2} + C_4 = 0$$\n",
        "\n",
        "$$\\fbox{$C_4 = 0$}$$\n",
        "\n",
        "Portanto, a equação da **Deflexão** é:\n",
        "$$EI y(x) = -\\frac{Px^3}{6} + \\frac{PLx^2}{2}$$\n",
        "\n",
        "$$\\fbox{$y(x) = \\frac{P}{EI} \\left( -\\frac{x^3}{6} + \\frac{Lx^2}{2} \\right)$}$$\n",
        " -->\n"
      ],
      "metadata": {
        "id": "x-_17x752SGi"
      }
    },
    {
      "cell_type": "markdown",
      "source": [
        "#Instalação do DeepXDE"
      ],
      "metadata": {
        "id": "OtrI4Hi3KLHN"
      }
    },
    {
      "cell_type": "code",
      "source": [
        "#! pip install -q deepxde"
      ],
      "metadata": {
        "id": "giwelhQJKK87",
        "colab": {
          "base_uri": "https://localhost:8080/"
        },
        "outputId": "ba583291-383f-4187-97cb-781fcb07ae2c"
      },
      "execution_count": null,
      "outputs": [
        {
          "output_type": "stream",
          "name": "stdout",
          "text": [
            "\u001b[?25l   \u001b[90m━━━━━━━━━━━━━━━━━━━━━━━━━━━━━━━━━━━━━━━━\u001b[0m \u001b[32m0.0/194.2 kB\u001b[0m \u001b[31m?\u001b[0m eta \u001b[36m-:--:--\u001b[0m\r\u001b[2K   \u001b[90m━━━━━━━━━━━━━━━━━━━━━━━━━━━━━━━━━━━━━━━━\u001b[0m \u001b[32m194.2/194.2 kB\u001b[0m \u001b[31m6.6 MB/s\u001b[0m eta \u001b[36m0:00:00\u001b[0m\n",
            "\u001b[?25h\u001b[?25l   \u001b[90m━━━━━━━━━━━━━━━━━━━━━━━━━━━━━━━━━━━━━━━━\u001b[0m \u001b[32m0.0/107.8 kB\u001b[0m \u001b[31m?\u001b[0m eta \u001b[36m-:--:--\u001b[0m\r\u001b[2K   \u001b[90m━━━━━━━━━━━━━━━━━━━━━━━━━━━━━━━━━━━━━━━━\u001b[0m \u001b[32m107.8/107.8 kB\u001b[0m \u001b[31m8.0 MB/s\u001b[0m eta \u001b[36m0:00:00\u001b[0m\n",
            "\u001b[?25h"
          ]
        }
      ]
    },
    {
      "cell_type": "markdown",
      "source": [
        "#Principais Bibliotecas"
      ],
      "metadata": {
        "id": "0ac9vEwGKkil"
      }
    },
    {
      "cell_type": "code",
      "source": [
        "# import numpy as np\n",
        "# import matplotlib.pyplot as plt\n",
        "# import deepxde as dde\n",
        "# import torch\n",
        "# dde.backend.backend_name = \"pytorch\""
      ],
      "metadata": {
        "id": "3lM8T3lqKQxC",
        "colab": {
          "base_uri": "https://localhost:8080/"
        },
        "outputId": "a1455112-71b4-42d1-f47e-43b123b34844",
        "collapsed": true
      },
      "execution_count": null,
      "outputs": [
        {
          "output_type": "stream",
          "name": "stderr",
          "text": [
            "Using backend: tensorflow.compat.v1\n",
            "Other supported backends: tensorflow, pytorch, jax, paddle.\n",
            "paddle supports more examples now and is recommended.\n",
            "WARNING:tensorflow:From /usr/local/lib/python3.11/dist-packages/tensorflow/python/compat/v2_compat.py:98: disable_resource_variables (from tensorflow.python.ops.resource_variables_toggle) is deprecated and will be removed in a future version.\n",
            "Instructions for updating:\n",
            "non-resource variables are not supported in the long term\n"
          ]
        }
      ]
    },
    {
      "cell_type": "markdown",
      "source": [
        "#Parâmetros"
      ],
      "metadata": {
        "id": "gFYawOtpMSli"
      }
    },
    {
      "cell_type": "code",
      "source": [
        "# L = 3.0  # Comprimento da viga em metros (m)\n",
        "# I = 6510e-8  # Momento de inércia em m^4 (6510 cm^4 = 6510e-8 m^4)\n",
        "# E = 2.1e11  # Módulo de elasticidade em N/m^2 (21000 kN/cm^2 = 2.1e8 kN/m^2 = 2.1e11 N/m^2)\n",
        "# P = 16000  # Carga pontual em Newtons (N)\n",
        "# EI = E * I"
      ],
      "metadata": {
        "id": "BrI4X5ZwMSL4"
      },
      "execution_count": null,
      "outputs": []
    },
    {
      "cell_type": "markdown",
      "source": [
        "#Solução Analítica"
      ],
      "metadata": {
        "id": "X_ZUfI2WNDth"
      }
    },
    {
      "cell_type": "code",
      "source": [
        "# def func(x):\n",
        "#     return -(P / (6 * EI)) * (3 * L * x**2 - x**3)\n"
      ],
      "metadata": {
        "id": "SVxO4FXiKQs5"
      },
      "execution_count": null,
      "outputs": []
    },
    {
      "cell_type": "markdown",
      "source": [
        "#Definição de Intervalo"
      ],
      "metadata": {
        "id": "-NMrg2qsNAaw"
      }
    },
    {
      "cell_type": "code",
      "source": [
        "# # -----------------------\n",
        "# # Escalonamento\n",
        "# # -----------------------\n",
        "# x_exato = np.linspace(0, L, 50).reshape(-1,1)\n",
        "# y_exato = func(x_exato)\n",
        "# y_scale = np.max(np.abs(y_exato))  # fator de escala para y\n",
        "\n",
        "# # -----------------------\n",
        "# # Geometria escalonada\n",
        "# # -----------------------\n",
        "# geom = dde.geometry.geometry_1d.Interval(0, 1)  # x em [0,1]\n"
      ],
      "metadata": {
        "id": "C0oJ2jZnKQgn"
      },
      "execution_count": null,
      "outputs": []
    },
    {
      "cell_type": "markdown",
      "source": [
        "### Derivadas Uteis e Definicao da EDO do problema\n",
        "\n",
        "> **1. JACOBIANO**\n",
        "* Para um função escalar $f(x)$, o Jacobiano é simplemente a **primeira derivada** com respeito a variável  \n",
        "$$\\frac{df}{dx}$$\n",
        "* Para um função multivariável $f(x,y)$ em 2D, o Jacobiano é um vetor de derivadas parciais com relação a cada variável.  \n",
        "$$J = \\begin{bmatrix}\n",
        "\\frac{\\partial f}{\\partial x} \\\\\n",
        "\\frac{\\partial f}{\\partial y}\n",
        "\\end{bmatrix}$$\n",
        "\n",
        "> **2. HESSIANO**\n",
        "* O Hessiano é uma matriz de derivadas parciais de segunda ordem;\n",
        "* Para um função escalar $f(x)$ em 1D, é apenas a **segunda derivada** com respeito a $x$.\n",
        "$$\\frac{d^2f}{dx^2}$$\n",
        "* Para um função multivariável $f(x,y)$ em 2D, é uma matriz que inclui todos derivaradas de segunda ordem possível.\n",
        "$$H = \\begin{bmatrix}\n",
        "\\frac{\\partial^2f}{\\partial x^2} & \\frac{\\partial ^2f}{\\partial x \\partial y} \\\\\n",
        "\\frac{\\partial^2f}{\\partial y \\partial x} & \\frac{\\partial^2f}{\\partial y^2}\n",
        "\\end{bmatrix}$$"
      ],
      "metadata": {
        "id": "oxN9_GSpNIyb"
      }
    },
    {
      "cell_type": "markdown",
      "source": [
        "## Derivadas"
      ],
      "metadata": {
        "id": "ZGYQ0LFzm_CX"
      }
    },
    {
      "cell_type": "code",
      "source": [
        "# w = 0  # carga distribuída N/m\n",
        "\n",
        "# def ddy(x, y):\n",
        "#     return dde.grad.hessian(y, x)\n",
        "\n",
        "# def dddy(x, y):\n",
        "#     return dde.grad.jacobian(ddy(x, y), x)\n",
        "\n",
        "# def pde(x, y):\n",
        "#     # conversão derivadas: d/dx = 1/L * d/dx_bar\n",
        "#     dy_xx = ddy(x, y)\n",
        "#     dy_xxxx = dde.grad.hessian(dy_xx, x)\n",
        "#     # PDE escalonada\n",
        "#     return dy_xxxx + (L**4 * w) / (EI * y_scale)\n"
      ],
      "metadata": {
        "id": "sKNEYHj9NSDn"
      },
      "execution_count": null,
      "outputs": []
    },
    {
      "cell_type": "markdown",
      "source": [
        "#Condições de contorno"
      ],
      "metadata": {
        "id": "kRanvN-uNdEo"
      }
    },
    {
      "cell_type": "code",
      "source": [
        "# # -----------------------\n",
        "# # Condições de contorno\n",
        "# # -----------------------\n",
        "# def boundary_l(x, on_boundary):\n",
        "#     return on_boundary and dde.utils.isclose(x[0], 0)\n",
        "\n",
        "# def boundary_r(x, on_boundary):\n",
        "#     return on_boundary and dde.utils.isclose(x[0], 1)\n",
        "\n",
        "# bc1 = dde.icbc.DirichletBC(geom, lambda x: 0, boundary_l)   # y(0) = 0\n",
        "# bc2 = dde.icbc.NeumannBC(geom, lambda x: 0, boundary_l)     # y'(0) = 0\n",
        "\n",
        "# # -----------------------\n",
        "# # Derivadas escalonadas: ddy_bar * y_scale / L^2\n",
        "# # -----------------------\n",
        "# bc3 = dde.icbc.OperatorBC(\n",
        "#     geom,\n",
        "#     lambda x, y, _: ddy(x, y) * y_scale / L**2,\n",
        "#     boundary_r\n",
        "# )\n",
        "# # 3ª derivada escalonada: dddy_bar * y_scale / L^3\n",
        "# # bc4 = dde.icbc.OperatorBC(\n",
        "# #     geom,\n",
        "# #     lambda x, y, _: dddy(x, y) * y_scale / L**3 + P / EI,\n",
        "# #     boundary_r\n",
        "# bc4 = dde.icbc.OperatorBC(\n",
        "#     geom,\n",
        "#     lambda x, y, _: dddy(x, y) - (P * L**3) / (EI * y_scale),\n",
        "#     boundary_r\n",
        "# )"
      ],
      "metadata": {
        "id": "3NQxjQzhNfEf"
      },
      "execution_count": null,
      "outputs": []
    },
    {
      "cell_type": "markdown",
      "source": [
        "Alteração na boundary condition 4 para o caso particular"
      ],
      "metadata": {
        "id": "hOCdeACbnNk1"
      }
    },
    {
      "cell_type": "code",
      "source": [
        "# bc1 = dde.icbc.DirichletBC(geom, lambda x: 0, boundary_l)   # y(0) = 0\n",
        "# bc2 = dde.icbc.NeumannBC(geom, lambda x: 0, boundary_l)     # y'(0) = 0\n",
        "# bc3 = dde.icbc.OperatorBC(geom,lambda x, y, _: ddy(x, y) * y_scale / L**2,boundary_r)\n",
        "# bc4 = dde.icbc.OperatorBC(geom,lambda x, y, _: dddy(x, y) - (P * L**3) / (EI * y_scale), boundary_r)"
      ],
      "metadata": {
        "id": "QNwvDNAxN1RY"
      },
      "execution_count": null,
      "outputs": []
    },
    {
      "cell_type": "markdown",
      "source": [
        "#Dados para o DeepXDE"
      ],
      "metadata": {
        "id": "uPVZwh0fKSD5"
      }
    },
    {
      "cell_type": "code",
      "source": [
        "# data = dde.data.PDE(\n",
        "#     geom,\n",
        "#     pde,\n",
        "#     [bc1, bc2, bc3, bc4],\n",
        "#     num_domain=80,\n",
        "#     num_boundary=2,\n",
        "# )"
      ],
      "metadata": {
        "id": "4ZnGmWItN-fT"
      },
      "execution_count": null,
      "outputs": []
    },
    {
      "cell_type": "markdown",
      "source": [
        "#Rede Neural"
      ],
      "metadata": {
        "id": "s27-7cOfKSBB"
      }
    },
    {
      "cell_type": "code",
      "source": [
        "# layer_size = [1] + [20] * 6+ [1]\n",
        "# activation = \"tanh\"\n",
        "# initializer = \"Glorot uniform\"\n",
        "# net = dde.nn.FNN(layer_size, activation, initializer)"
      ],
      "metadata": {
        "id": "JGx78S47ODBb"
      },
      "execution_count": null,
      "outputs": []
    },
    {
      "cell_type": "markdown",
      "source": [
        "#Modelo e Otimização , com loss weights"
      ],
      "metadata": {
        "id": "AkwgW27rKR6e"
      }
    },
    {
      "cell_type": "code",
      "source": [
        "# model = dde.Model(data, net)\n",
        "# model.compile(\"adam\", lr=0.0005,loss_weights = [1, 1000, 10, 10, 470])\n",
        "# N_iter = 30000\n",
        "# step = 1000\n",
        "# losshistory, train_state = model.train(iterations=N_iter, display_every=step)"
      ],
      "metadata": {
        "id": "Rtc4yiqSOUIX"
      },
      "execution_count": null,
      "outputs": []
    },
    {
      "cell_type": "markdown",
      "source": [
        "#Plotagem da PINN vs Solução Analítica"
      ],
      "metadata": {
        "id": "r0tipG4FOao7"
      }
    },
    {
      "cell_type": "code",
      "source": [
        "# # -----------------------\n",
        "# # Predição\n",
        "# # -----------------------\n",
        "# x_pinn = np.linspace(0, 1, 50).reshape(-1,1)\n",
        "# y_pinn = model.predict(x_pinn)\n",
        "\n",
        "# # -----------------------\n",
        "# # Converter para unidades físicas\n",
        "# # -----------------------\n",
        "# x_phys = x_pinn * L\n",
        "# y_phys = y_pinn * y_scale\n",
        "\n",
        "# # -----------------------\n",
        "# # Plot PINN vs Solução Exata\n",
        "# # -----------------------\n",
        "# plt.figure(figsize=(8,5))\n",
        "# plt.scatter(x_exato, y_exato, label='Exata', color='blue', marker='o', s=50)\n",
        "# plt.plot(x_phys, y_phys, label='PINN', color='red', linestyle='--')\n",
        "# plt.xlabel(\"x [m]\")\n",
        "# plt.ylabel(\"y(x) [m]\")\n",
        "# plt.title(\"PINN vs Solução Exata (unidades físicas)\")\n",
        "# plt.legend()\n",
        "# plt.grid()\n",
        "# plt.show()"
      ],
      "metadata": {
        "id": "cqn1MKSPOlfc"
      },
      "execution_count": null,
      "outputs": []
    },
    {
      "cell_type": "markdown",
      "source": [
        "##Histórico de custos"
      ],
      "metadata": {
        "id": "_jBlMeaxpGSh"
      }
    },
    {
      "cell_type": "code",
      "source": [
        "# # -----------------------\n",
        "# # Loss\n",
        "# # -----------------------\n",
        "# losses = np.array(losshistory.loss_train)\n",
        "# pde_loss_plot = losses[:,0]\n",
        "# icbc_loss_plot = np.sum(losses[:,1:], axis=1)\n",
        "# total_loss_plot = pde_loss_plot + icbc_loss_plot\n",
        "\n",
        "# plt.figure(figsize=(6,4))\n",
        "# epocas = np.linspace(0, N_iter, len(pde_loss_plot))\n",
        "# plt.plot(epocas, total_loss_plot, 'k', linewidth=2, label=\"Total\")\n",
        "# plt.plot(epocas, pde_loss_plot, color='silver', linestyle='--', linewidth=2, label=\"DE loss\")\n",
        "# plt.plot(epocas, icbc_loss_plot, color='r', linestyle='-.', linewidth=2, label=\"BC loss\")\n",
        "# plt.xlabel('Épocas')\n",
        "# plt.ylabel('Função de Custo')\n",
        "# plt.yscale('log')\n",
        "# plt.title('Histórico da Função de Custo')\n",
        "# plt.legend()\n",
        "# plt.grid(True)\n",
        "# plt.show()"
      ],
      "metadata": {
        "colab": {
          "base_uri": "https://localhost:8080/"
        },
        "id": "BAGoSCNHOosO",
        "outputId": "cf02bf86-2437-4109-a247-652022934349"
      },
      "execution_count": null,
      "outputs": [
        {
          "metadata": {
            "tags": null
          },
          "name": "stdout",
          "output_type": "stream",
          "text": [
            "(71, 5)\n",
            "(71,)\n"
          ]
        }
      ]
    },
    {
      "cell_type": "markdown",
      "source": [
        "#Plot dos Custos e Print de rotação e deflexão máximas\n",
        "\n"
      ],
      "metadata": {
        "id": "wgbljUSnOqqr"
      }
    },
    {
      "cell_type": "code",
      "source": [
        "# plt.figure(figsize=(6,4))\n",
        "# epocas = np.linspace(0,N_iter,np.size(pde_loss_plot))\n",
        "# plt.plot(epocas,total_loss_plot, 'k', linewidth=2, label=\"Total\")\n",
        "# plt.plot(epocas,pde_loss_plot, color='silver', linestyle='--', linewidth=2, label=\"DE loss\")\n",
        "# plt.plot(epocas,icbc_loss_plot, color='r', linestyle='-.', linewidth=2, label=\"BC loss\")\n",
        "\n",
        "# plt.xlabel('Epocas')\n",
        "# plt.ylabel('Função de Custo')\n",
        "# plt.yscale('log')\n",
        "# plt.title('Historico da Função de Custo')\n",
        "# plt.legend()\n",
        "# plt.grid(True)\n",
        "# plt.show()\n",
        "\n",
        "# # -----------------------\n",
        "# # Deflexão máxima\n",
        "# # -----------------------\n",
        "# max_deflection = np.min(y_phys)\n",
        "\n",
        "# # -----------------------\n",
        "# # Rotação máxima usando diferença finita no ponto final\n",
        "# # -----------------------\n",
        "\n",
        "# dx = 0.001\n",
        "# y_end = model.predict(np.array([[1.0]])) * y_scale\n",
        "# y_near = model.predict(np.array([[1.0 - dx]])) * y_scale\n",
        "# max_rotation = ((y_end - y_near) / (dx * L)).item()\n",
        "\n",
        "# # -----------------------\n",
        "# # Imprime resultados\n",
        "# # -----------------------\n",
        "# print(f\"Deflexão máxima: {max_deflection:.6f} m\")\n",
        "# print(f\"Rotação máxima:  {max_rotation:.6f} rad\")"
      ],
      "metadata": {
        "id": "tGpqXfafOtd-"
      },
      "execution_count": null,
      "outputs": []
    },
    {
      "cell_type": "markdown",
      "source": [
        "## RODE ESSA CÉLULA PARA A RESPOSTA"
      ],
      "metadata": {
        "id": "G9eg701spkei"
      }
    },
    {
      "cell_type": "code",
      "source": [
        "import numpy as np\n",
        "import matplotlib.pyplot as plt\n",
        "import deepxde as dde\n",
        "import torch\n",
        "dde.backend.backend_name = \"pytorch\"\n",
        "\n",
        "# -----------------------\n",
        "# Parâmetros físicos\n",
        "# -----------------------\n",
        "L = 3.0          # m\n",
        "I = 6510e-8      # m^4\n",
        "E = 2.1e11       # Pa\n",
        "P = 16000        # N\n",
        "EI = E *\n",
        "\n",
        "# -----------------------\n",
        "# Solução\n",
        "# -----------------------\n",
        "def func(x):\n",
        "    return -(P / (6 * EI)) * (3 * L * x**2 - x**3)\n",
        "\n",
        "# -----------------------\n",
        "# Escalonamento de\n",
        "# -----------------------\n",
        "x_exato = np.linspace(0, L, 50).reshape(-1,1)\n",
        "y_exato = func(x_exato)\n",
        "y_scale = np.max(np.abs(y_exato))  # fator de escala para y\n",
        "\n",
        "# -----------------------\n",
        "# Geometria escalonada\n",
        "# -----------------------\n",
        "geom = dde.geometry.geometry_1d.Interval(0, 1)  # x em [0,1]\n",
        "\n",
        "# -----------------------\n",
        "# PDE escalonada\n",
        "# -----------------------\n",
        "w = 0  # carga distribuída N/m\n",
        "\n",
        "def ddy(x, y):\n",
        "    return dde.grad.hessian(y, x)\n",
        "\n",
        "def dddy(x, y):\n",
        "    return dde.grad.jacobian(ddy(x, y), x)\n",
        "\n",
        "def pde(x, y):\n",
        "    # conversão derivadas: d/dx = 1/L * d/dx_bar\n",
        "    dy_xx = ddy(x, y)\n",
        "    dy_xxxx = dde.grad.hessian(dy_xx, x)\n",
        "    # PDE escalonada\n",
        "    return dy_xxxx + (L**4 * w) / (EI * y_scale)\n",
        "\n",
        "# -----------------------\n",
        "# Condições de contorno\n",
        "# -----------------------\n",
        "def boundary_l(x, on_boundary):\n",
        "    return on_boundary and dde.utils.isclose(x[0], 0)\n",
        "\n",
        "def boundary_r(x, on_boundary):\n",
        "    return on_boundary and dde.utils.isclose(x[0], 1)\n",
        "\n",
        "bc1 = dde.icbc.DirichletBC(geom, lambda x: 0, boundary_l)   # y(0) = 0\n",
        "bc2 = dde.icbc.NeumannBC(geom, lambda x: 0, boundary_l)     # y'(0) = 0\n",
        "\n",
        "# -----------------------\n",
        "# Derivadas escalonadas: ddy_bar * y_scale / L^2\n",
        "# -----------------------\n",
        "bc3 = dde.icbc.OperatorBC(\n",
        "    geom,\n",
        "    lambda x, y, _: ddy(x, y) * y_scale / L**2,\n",
        "    boundary_r\n",
        ")\n",
        "# 3ª derivada escalonada: dddy_bar * y_scale / L^3\n",
        "# bc4 = dde.icbc.OperatorBC(\n",
        "#     geom,\n",
        "#     lambda x, y, _: dddy(x, y) * y_scale / L**3 + P / EI,\n",
        "#     boundary_r\n",
        "bc4 = dde.icbc.OperatorBC(\n",
        "    geom,\n",
        "    lambda x, y, _: dddy(x, y) - (P * L**3) / (EI * y_scale),\n",
        "    boundary_r\n",
        ")\n",
        "\n",
        "\n",
        "# -----------------------\n",
        "# Dataset\n",
        "# -----------------------\n",
        "data = dde.data.PDE(\n",
        "    geom,\n",
        "    pde,\n",
        "    [bc1, bc2, bc3, bc4],\n",
        "    num_domain=80,\n",
        "    num_boundary=2,\n",
        ")\n",
        "\n",
        "# -----------------------\n",
        "# Rede Neural\n",
        "# -----------------------\n",
        "layer_size = [1] + [20]*6 + [1]\n",
        "activation = \"tanh\"\n",
        "initializer = \"Glorot uniform\"\n",
        "net = dde.nn.FNN(layer_size, activation, initializer)\n",
        "\n",
        "model = dde.Model(data, net)\n",
        "model.compile(\"adam\", lr=0.0005,loss_weights = [1, 1000, 10, 10, 470])\n",
        "N_iter = 30000\n",
        "step = 1000\n",
        "losshistory, train_state = model.train(iterations=N_iter, display_every=step)\n",
        "\n",
        "# -----------------------\n",
        "# Predição\n",
        "# -----------------------\n",
        "x_pinn = np.linspace(0, 1, 50).reshape(-1,1)\n",
        "y_pinn = model.predict(x_pinn)\n",
        "\n",
        "# -----------------------\n",
        "# Converter para unidades físicas\n",
        "# -----------------------\n",
        "x_phys = x_pinn * L\n",
        "y_phys = y_pinn * y_scale\n",
        "\n",
        "# -----------------------\n",
        "# Plot PINN vs Solução Exata\n",
        "# -----------------------\n",
        "plt.figure(figsize=(8,5))\n",
        "plt.scatter(x_exato, y_exato, label='Exata', color='blue', marker='o', s=50)\n",
        "plt.plot(x_phys, y_phys, label='PINN', color='red', linestyle='--')\n",
        "plt.xlabel(\"x [m]\")\n",
        "plt.ylabel(\"y(x) [m]\")\n",
        "plt.title(\"PINN vs Solução Exata (unidades físicas)\")\n",
        "plt.legend()\n",
        "plt.grid()\n",
        "plt.show()\n",
        "\n",
        "# -----------------------\n",
        "# Loss\n",
        "# -----------------------\n",
        "losses = np.array(losshistory.loss_train)\n",
        "pde_loss_plot = losses[:,0]\n",
        "icbc_loss_plot = np.sum(losses[:,1:], axis=1)\n",
        "total_loss_plot = pde_loss_plot + icbc_loss_plot\n",
        "\n",
        "plt.figure(figsize=(6,4))\n",
        "epocas = np.linspace(0, N_iter, len(pde_loss_plot))\n",
        "plt.plot(epocas, total_loss_plot, 'k', linewidth=2, label=\"Total\")\n",
        "plt.plot(epocas, pde_loss_plot, color='silver', linestyle='--', linewidth=2, label=\"DE loss\")\n",
        "plt.plot(epocas, icbc_loss_plot, color='r', linestyle='-.', linewidth=2, label=\"BC loss\")\n",
        "plt.xlabel('Épocas')\n",
        "plt.ylabel('Função de Custo')\n",
        "plt.yscale('log')\n",
        "plt.title('Histórico da Função de Custo')\n",
        "plt.legend()\n",
        "plt.grid(True)\n",
        "plt.show()\n",
        "\n",
        "# -----------------------\n",
        "# Deflexão máxima e rotação máxima\n",
        "# -----------------------\n",
        "\n",
        "# -----------------------\n",
        "# Deflexão máxima\n",
        "# -----------------------\n",
        "max_deflection = np.min(y_phys)\n",
        "\n",
        "# -----------------------\n",
        "# Rotação máxima usando diferença finita no ponto final\n",
        "# -----------------------\n",
        "\n",
        "dx = 0.001\n",
        "y_end = model.predict(np.array([[1.0]])) * y_scale\n",
        "y_near = model.predict(np.array([[1.0 - dx]])) * y_scale\n",
        "max_rotation = ((y_end - y_near) / (dx * L)).item()\n",
        "\n",
        "# -----------------------\n",
        "# Imprime resultados\n",
        "# -----------------------\n",
        "print(f\"Deflexão máxima: {max_deflection:.6f} m\")\n",
        "print(f\"Rotação máxima:  {max_rotation:.6f} rad\")\n"
      ],
      "metadata": {
        "colab": {
          "base_uri": "https://localhost:8080/",
          "height": 1000
        },
        "id": "TnLIDQy69DSB",
        "outputId": "bcd0bf05-fef1-42ae-c821-06b4752dae9f"
      },
      "execution_count": null,
      "outputs": [
        {
          "output_type": "stream",
          "name": "stdout",
          "text": [
            "Compiling model...\n",
            "Building feed-forward neural network...\n",
            "'build' took 0.130131 s\n",
            "\n",
            "'compile' took 10.895107 s\n",
            "\n",
            "Training model...\n",
            "\n",
            "Step      Train loss                                            Test loss                                             Test metric\n",
            "0         [3.64e+00, 0.00e+00, 1.60e+00, 7.13e-07, 5.06e+03]    [3.64e+00, 0.00e+00, 1.60e+00, 7.13e-07, 5.06e+03]    []  \n",
            "1000      [6.79e-01, 1.82e-04, 1.39e-03, 1.09e-06, 8.89e-04]    [6.79e-01, 1.82e-04, 1.39e-03, 1.09e-06, 8.89e-04]    []  \n",
            "2000      [2.14e-01, 6.42e-03, 3.11e-05, 7.29e-07, 2.22e-01]    [2.14e-01, 6.42e-03, 3.11e-05, 7.29e-07, 2.22e-01]    []  \n",
            "3000      [7.94e-02, 2.07e-06, 1.18e-06, 5.15e-07, 2.71e-05]    [7.94e-02, 2.07e-06, 1.18e-06, 5.15e-07, 2.71e-05]    []  \n",
            "4000      [2.65e-02, 4.26e-07, 1.33e-07, 4.25e-07, 5.48e-06]    [2.65e-02, 4.26e-07, 1.33e-07, 4.25e-07, 5.48e-06]    []  \n",
            "5000      [8.14e-03, 9.91e-08, 1.23e-10, 3.98e-07, 2.02e-06]    [8.14e-03, 9.91e-08, 1.23e-10, 3.98e-07, 2.02e-06]    []  \n",
            "6000      [3.66e-03, 7.38e-05, 2.06e-05, 4.15e-07, 2.70e-03]    [3.66e-03, 7.38e-05, 2.06e-05, 4.15e-07, 2.70e-03]    []  \n",
            "7000      [2.14e-03, 9.38e-08, 1.66e-07, 4.06e-07, 1.33e-07]    [2.14e-03, 9.38e-08, 1.66e-07, 4.06e-07, 1.33e-07]    []  \n",
            "8000      [1.85e-03, 8.13e-07, 1.85e-07, 4.08e-07, 2.15e-05]    [1.85e-03, 8.13e-07, 1.85e-07, 4.08e-07, 2.15e-05]    []  \n",
            "9000      [3.79e-03, 2.48e-02, 1.40e-04, 3.57e-07, 9.12e-01]    [3.79e-03, 2.48e-02, 1.40e-04, 3.57e-07, 9.12e-01]    []  \n",
            "10000     [4.54e-03, 9.48e-03, 6.11e-04, 3.68e-07, 1.38e-01]    [4.54e-03, 9.48e-03, 6.11e-04, 3.68e-07, 1.38e-01]    []  \n",
            "11000     [1.90e-03, 4.78e-05, 4.25e-05, 3.68e-07, 4.31e-03]    [1.90e-03, 4.78e-05, 4.25e-05, 3.68e-07, 4.31e-03]    []  \n",
            "12000     [2.21e-03, 1.95e-03, 4.25e-04, 3.82e-07, 2.89e-02]    [2.21e-03, 1.95e-03, 4.25e-04, 3.82e-07, 2.89e-02]    []  \n",
            "13000     [1.64e-03, 7.54e-04, 1.39e-06, 3.26e-07, 1.41e-02]    [1.64e-03, 7.54e-04, 1.39e-06, 3.26e-07, 1.41e-02]    []  \n",
            "14000     [1.49e-03, 8.69e-05, 1.82e-06, 2.98e-07, 3.49e-03]    [1.49e-03, 8.69e-05, 1.82e-06, 2.98e-07, 3.49e-03]    []  \n",
            "15000     [1.35e-03, 8.81e-05, 1.26e-06, 2.65e-07, 1.65e-02]    [1.35e-03, 8.81e-05, 1.26e-06, 2.65e-07, 1.65e-02]    []  \n",
            "16000     [4.43e-03, 1.96e-02, 5.41e-04, 2.39e-07, 6.94e-03]    [4.43e-03, 1.96e-02, 5.41e-04, 2.39e-07, 6.94e-03]    []  \n",
            "17000     [1.20e-03, 2.39e-05, 2.43e-06, 2.22e-07, 6.95e-04]    [1.20e-03, 2.39e-05, 2.43e-06, 2.22e-07, 6.95e-04]    []  \n",
            "18000     [1.29e-03, 1.09e-05, 6.92e-07, 2.06e-07, 3.49e-02]    [1.29e-03, 1.09e-05, 6.92e-07, 2.06e-07, 3.49e-02]    []  \n",
            "19000     [1.30e-03, 3.44e-06, 6.95e-06, 1.89e-07, 3.83e-02]    [1.30e-03, 3.44e-06, 6.95e-06, 1.89e-07, 3.83e-02]    []  \n",
            "20000     [1.31e-03, 4.71e-03, 1.12e-04, 1.55e-07, 5.51e-02]    [1.31e-03, 4.71e-03, 1.12e-04, 1.55e-07, 5.51e-02]    []  \n",
            "21000     [1.31e-03, 3.25e-04, 3.11e-05, 1.50e-07, 6.55e-02]    [1.31e-03, 3.25e-04, 3.11e-05, 1.50e-07, 6.55e-02]    []  \n",
            "22000     [1.13e-03, 7.63e-04, 4.99e-05, 1.31e-07, 1.32e-02]    [1.13e-03, 7.63e-04, 4.99e-05, 1.31e-07, 1.32e-02]    []  \n",
            "23000     [9.96e-04, 1.13e-03, 2.45e-05, 1.17e-07, 1.18e-02]    [9.96e-04, 1.13e-03, 2.45e-05, 1.17e-07, 1.18e-02]    []  \n",
            "24000     [9.26e-04, 9.08e-04, 1.22e-05, 1.02e-07, 7.35e-04]    [9.26e-04, 9.08e-04, 1.22e-05, 1.02e-07, 7.35e-04]    []  \n",
            "25000     [8.14e-04, 7.92e-07, 3.19e-07, 8.95e-08, 2.24e-04]    [8.14e-04, 7.92e-07, 3.19e-07, 8.95e-08, 2.24e-04]    []  \n",
            "26000     [1.03e-03, 2.61e-03, 3.01e-08, 8.43e-08, 1.26e-01]    [1.03e-03, 2.61e-03, 3.01e-08, 8.43e-08, 1.26e-01]    []  \n",
            "27000     [8.68e-04, 1.08e-03, 1.19e-06, 6.87e-08, 1.04e-03]    [8.68e-04, 1.08e-03, 1.19e-06, 6.87e-08, 1.04e-03]    []  \n",
            "28000     [8.52e-04, 5.81e-03, 2.77e-05, 5.25e-08, 1.14e-01]    [8.52e-04, 5.81e-03, 2.77e-05, 5.25e-08, 1.14e-01]    []  \n",
            "29000     [4.53e-03, 9.12e-04, 1.02e-03, 5.32e-08, 1.23e-01]    [4.53e-03, 9.12e-04, 1.02e-03, 5.32e-08, 1.23e-01]    []  \n",
            "30000     [3.26e-03, 2.07e-02, 4.48e-04, 4.20e-08, 9.39e-02]    [3.26e-03, 2.07e-02, 4.48e-04, 4.20e-08, 9.39e-02]    []  \n",
            "\n",
            "Best model at step 25000:\n",
            "  train loss: 1.04e-03\n",
            "  test loss: 1.04e-03\n",
            "  test metric: []\n",
            "\n",
            "'train' took 201.505297 s\n",
            "\n"
          ]
        },
        {
          "output_type": "display_data",
          "data": {
            "text/plain": [
              "<Figure size 800x500 with 1 Axes>"
            ],
            "image/png": "[encoded data removed]"
          },
          "metadata": {}
        },
        {
          "output_type": "display_data",
          "data": {
            "text/plain": [
              "<Figure size 600x400 with 1 Axes>"
            ],
            "image/png": "[encoded data removed]"
          },
          "metadata": {}
        },
        {
          "output_type": "stream",
          "name": "stdout",
          "text": [
            "Deflexão máxima: -0.010221 m\n",
            "Rotação máxima:  -0.005051 rad\n"
          ]
        }
      ]
    }
  ]
}